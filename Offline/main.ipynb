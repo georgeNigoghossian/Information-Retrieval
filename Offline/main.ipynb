{
 "cells": [
  {
   "metadata": {},
   "cell_type": "markdown",
   "source": "",
   "id": "4b671fed1d002441"
  },
  {
   "metadata": {},
   "cell_type": "markdown",
   "source": "## Create a new Index",
   "id": "310ad2bcae2bf6c4"
  },
  {
   "metadata": {
    "ExecuteTime": {
     "end_time": "2024-05-26T17:24:54.384016Z",
     "start_time": "2024-05-26T17:18:22.480893Z"
    }
   },
   "cell_type": "code",
   "source": [
    "from Helper.timing import Timing\n",
    "from Helper.ORM import fetch_records\n",
    "from Pipeline.index.index import Index\n",
    "\n",
    "with Timing('Creating Index...'):\n",
    "    records = fetch_records(model=\"Corpus\")\n",
    "    documents = [rec.text for rec in records]\n",
    "    index = Index(records)\n",
    "    index.save(model_name=\"Pipeline/index/Saved/wiki_model.pickle\",\n",
    "               tfidf_name=\"Pipeline/index/Saved/wiki_tfidf.pickle\",\n",
    "               keys_name=\"Pipeline/index/Saved/wiki_keys.pickle\")\n",
    "    \n",
    "print(index.tfidf_matrix.shape[1])"
   ],
   "id": "94f4e549db8e8a37",
   "outputs": [
    {
     "name": "stdout",
     "output_type": "stream",
     "text": [
      "Creating Index... elapsed time: 391.8957905769348\n",
      "794562\n"
     ]
    }
   ],
   "execution_count": 13
  },
  {
   "metadata": {},
   "cell_type": "markdown",
   "source": "## Load existing Index",
   "id": "67f33c03d43e1ebe"
  },
  {
   "metadata": {
    "ExecuteTime": {
     "end_time": "2024-05-27T12:12:32.670124Z",
     "start_time": "2024-05-27T12:12:30.548393Z"
    }
   },
   "cell_type": "code",
   "source": [
    "from Pipeline.index.index import Index\n",
    "\n",
    "index = Index.load(model_name=\"Pipeline/index/Saved/Lower_Stopwords_Processed/wiki_model369721.pickle\",\n",
    "                   tfidf_name=\"Pipeline/index/Saved/Lower_Processed/wiki_tfidf369721.pickle\",\n",
    "                   keys_name=\"Pipeline/index/Saved/Lower_Processed/wiki_keys369721.pickle\")\n",
    "\n",
    "print(index.tfidf_matrix.shape[1])"
   ],
   "id": "14df0077eb2702da",
   "outputs": [
    {
     "name": "stdout",
     "output_type": "stream",
     "text": [
      "794562\n"
     ]
    }
   ],
   "execution_count": 2
  },
  {
   "metadata": {},
   "cell_type": "markdown",
   "source": "# Evaluate the currently loaded index",
   "id": "45f8c921862e0000"
  },
  {
   "metadata": {
    "ExecuteTime": {
     "end_time": "2024-05-27T12:15:14.107505Z",
     "start_time": "2024-05-27T12:15:13.822002Z"
    }
   },
   "cell_type": "code",
   "source": [
    "from Pipeline.Evaluation.eval import evaluate\n",
    "from Helper.timing import Timing\n",
    "\n",
    "with Timing('Evaluating Documents...'):\n",
    "    ev = evaluate(index, \n",
    "                  qrels_path=\"Pipeline/Evaluation/Wiki/qrels_wiki\",\n",
    "                  queries_path=\"Pipeline/Evaluation/Wiki/queries.csv\", \n",
    "                  run_path=\"Pipeline/Evaluation/Wiki/run_wiki_lower\", \n",
    "                  create_run_file_bool=False)\n",
    "\n",
    "    print(ev)"
   ],
   "id": "bac1c146e60260ac",
   "outputs": [
    {
     "name": "stdout",
     "output_type": "stream",
     "text": [
      "{AP(rel=2): 0.43642916601711607, RR(rel=2): 0.43642916601711607, P@10: 0.18947368421052488, R@10: 0.1733217973386691}\n",
      "Evaluating Documents... elapsed time: 0.28061437606811523\n"
     ]
    }
   ],
   "execution_count": 5
  },
  {
   "metadata": {},
   "cell_type": "markdown",
   "source": "# Show Clustered Index Plots",
   "id": "b3c858a3e368e4c3"
  },
  {
   "metadata": {},
   "cell_type": "code",
   "outputs": [],
   "execution_count": null,
   "source": [
    "from Clustering import cluster_index\n",
    "\n",
    "cluster_index(index)"
   ],
   "id": "431653f2bf94faf"
  },
  {
   "metadata": {},
   "cell_type": "markdown",
   "source": "# Search for a certain term",
   "id": "4db7453eae3fdb33"
  },
  {
   "metadata": {
    "ExecuteTime": {
     "end_time": "2024-05-26T17:31:45.825398Z",
     "start_time": "2024-05-26T17:31:43.874262Z"
    }
   },
   "cell_type": "code",
   "source": [
    "with Timing('searching...'):\n",
    "  top_documents = index.search('IRAQ')\n",
    "  for doc_id, score, idx in top_documents:\n",
    "      print(f\"Document {doc_id}: Similarity Score {score}\")"
   ],
   "id": "b7934724a0223075",
   "outputs": [
    {
     "name": "stdout",
     "output_type": "stream",
     "text": [
      "Document 1358658: Similarity Score 0.6522814603121104\n",
      "Document 689169: Similarity Score 0.6440234361494456\n",
      "Document 83127: Similarity Score 0.6406980610023064\n",
      "Document 1042652: Similarity Score 0.6240635000129057\n",
      "Document 2103581: Similarity Score 0.5842387741819973\n",
      "Document 1348390: Similarity Score 0.581838758742348\n",
      "Document 91022: Similarity Score 0.5768447940575882\n",
      "Document 2416624: Similarity Score 0.5702820126486285\n",
      "Document 2409530: Similarity Score 0.5324332217785986\n",
      "Document 1045421: Similarity Score 0.5305304296199871\n",
      "Document 2098473: Similarity Score 0.5154709735480356\n",
      "searching... elapsed time: 1.9454967975616455\n"
     ]
    }
   ],
   "execution_count": 20
  }
 ],
 "metadata": {
  "kernelspec": {
   "display_name": "Python 3",
   "language": "python",
   "name": "python3"
  },
  "language_info": {
   "codemirror_mode": {
    "name": "ipython",
    "version": 2
   },
   "file_extension": ".py",
   "mimetype": "text/x-python",
   "name": "python",
   "nbconvert_exporter": "python",
   "pygments_lexer": "ipython2",
   "version": "2.7.6"
  }
 },
 "nbformat": 4,
 "nbformat_minor": 5
}
