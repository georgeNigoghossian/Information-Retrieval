{
 "cells": [
  {
   "metadata": {},
   "cell_type": "markdown",
   "source": "",
   "id": "4b671fed1d002441"
  },
  {
   "metadata": {},
   "cell_type": "markdown",
   "source": "## Create a new Index",
   "id": "310ad2bcae2bf6c4"
  },
  {
   "metadata": {
    "ExecuteTime": {
     "end_time": "2024-05-26T17:24:54.384016Z",
     "start_time": "2024-05-26T17:18:22.480893Z"
    }
   },
   "cell_type": "code",
   "source": [
    "from Helper.timing import Timing\n",
    "from Helper.ORM import fetch_records\n",
    "from Pipeline.index.index import Index\n",
    "\n",
    "with Timing('Creating Index...'):\n",
    "    records = fetch_records(model=\"Corpus\")\n",
    "    documents = [rec.text for rec in records]\n",
    "    index = Index(records)\n",
    "    index.save(model_name=\"Pipeline/index/Saved/wiki_model.pickle\",\n",
    "               tfidf_name=\"Pipeline/index/Saved/wiki_tfidf.pickle\",\n",
    "               keys_name=\"Pipeline/index/Saved/wiki_keys.pickle\")\n",
    "    \n",
    "print(index.tfidf_matrix.shape[1])"
   ],
   "id": "94f4e549db8e8a37",
   "outputs": [
    {
     "name": "stdout",
     "output_type": "stream",
     "text": [
      "Creating Index... elapsed time: 391.8957905769348\n",
      "794562\n"
     ]
    }
   ],
   "execution_count": 13
  },
  {
   "metadata": {},
   "cell_type": "markdown",
   "source": "## Load existing Index",
   "id": "67f33c03d43e1ebe"
  },
  {
   "metadata": {
    "ExecuteTime": {
     "end_time": "2024-05-26T17:24:55.126344Z",
     "start_time": "2024-05-26T17:24:54.387022Z"
    }
   },
   "cell_type": "code",
   "source": [
    "index = Index.load(model_name=\"Pipeline/index/Saved/Lower_Stopwords_HTML_Countries_Numerize_punct_ord_long_stem_Processed/wiki_model369721.pickle\",\n",
    "                   tfidf_name=\"Pipeline/index/Saved/Lower_Stopwords_HTML_Countries_Numerize_punct_ord_long_stem_Processed/wiki_tfidf369721.pickle\",\n",
    "                   keys_name=\"Pipeline/index/Saved/Lower_Stopwords_HTML_Countries_Numerize_punct_ord_long_stem_Processed/wiki_keys369721.pickle\")\n",
    "\n",
    "print(index.tfidf_matrix.shape[1])"
   ],
   "id": "14df0077eb2702da",
   "outputs": [
    {
     "name": "stdout",
     "output_type": "stream",
     "text": [
      "718876\n"
     ]
    }
   ],
   "execution_count": 14
  },
  {
   "metadata": {},
   "cell_type": "markdown",
   "source": "# Evaluate the currently loaded index",
   "id": "45f8c921862e0000"
  },
  {
   "metadata": {},
   "cell_type": "code",
   "outputs": [],
   "execution_count": null,
   "source": [
    "from Pipeline.Evaluation.eval import evaluate\n",
    "\n",
    "with Timing('Evaluating Documents...'):\n",
    "    ev = evaluate(index, create_run_file_bool=True)\n",
    "    print(ev)"
   ],
   "id": "bac1c146e60260ac"
  },
  {
   "metadata": {},
   "cell_type": "markdown",
   "source": "# Show Clustered Index Plots",
   "id": "b3c858a3e368e4c3"
  },
  {
   "metadata": {},
   "cell_type": "code",
   "outputs": [],
   "execution_count": null,
   "source": [
    "from Clustering import cluster_index\n",
    "\n",
    "cluster_index(index)"
   ],
   "id": "431653f2bf94faf"
  },
  {
   "metadata": {},
   "cell_type": "markdown",
   "source": "# Search for a certain term",
   "id": "4db7453eae3fdb33"
  },
  {
   "metadata": {
    "ExecuteTime": {
     "end_time": "2024-05-26T17:31:45.825398Z",
     "start_time": "2024-05-26T17:31:43.874262Z"
    }
   },
   "cell_type": "code",
   "source": [
    "with Timing('searching...'):\n",
    "  top_documents = index.search('IRAQ')\n",
    "  for doc_id, score, idx in top_documents:\n",
    "      print(f\"Document {doc_id}: Similarity Score {score}\")"
   ],
   "id": "b7934724a0223075",
   "outputs": [
    {
     "name": "stdout",
     "output_type": "stream",
     "text": [
      "Document 1358658: Similarity Score 0.6522814603121104\n",
      "Document 689169: Similarity Score 0.6440234361494456\n",
      "Document 83127: Similarity Score 0.6406980610023064\n",
      "Document 1042652: Similarity Score 0.6240635000129057\n",
      "Document 2103581: Similarity Score 0.5842387741819973\n",
      "Document 1348390: Similarity Score 0.581838758742348\n",
      "Document 91022: Similarity Score 0.5768447940575882\n",
      "Document 2416624: Similarity Score 0.5702820126486285\n",
      "Document 2409530: Similarity Score 0.5324332217785986\n",
      "Document 1045421: Similarity Score 0.5305304296199871\n",
      "Document 2098473: Similarity Score 0.5154709735480356\n",
      "searching... elapsed time: 1.9454967975616455\n"
     ]
    }
   ],
   "execution_count": 20
  },
  {
   "metadata": {
    "ExecuteTime": {
     "end_time": "2024-05-26T18:36:47.625509Z",
     "start_time": "2024-05-26T18:36:46.770020Z"
    }
   },
   "cell_type": "code",
   "source": [
    "# import numpy as np\n",
    "feature_names = index.vectorizer.get_feature_names_out()\n",
    "\n",
    "\n",
    "term = \"document\"\n",
    "\n",
    "# term_counts = {}\n",
    "# for i, feature in enumerate(feature_names):\n",
    "#   term_counts[feature] = 0\n",
    "#   for doc in index.tfidf_matrix:\n",
    "  #   if doc[i] > 0:  # Check if term appears in the document (weight > 0)\n",
    "  #     term_counts[feature] += 1\n",
    "\n",
    "# Sort terms by appearance count (descending order)\n",
    "# sorted_terms = sorted(term_counts.items(), key=lambda x: x[1], reverse=True)\n",
    "# \n",
    "# \n",
    "np.savetxt('feature_names.txt', feature_names, fmt=\"%s\", delimiter=',')\n"
   ],
   "id": "44f2070209412312",
   "outputs": [
    {
     "ename": "TypeError",
     "evalue": "'>=' not supported between instances of 'str' and 'int'",
     "output_type": "error",
     "traceback": [
      "\u001B[1;31m---------------------------------------------------------------------------\u001B[0m",
      "\u001B[1;31mTypeError\u001B[0m                                 Traceback (most recent call last)",
      "Cell \u001B[1;32mIn[46], line 10\u001B[0m\n\u001B[0;32m      8\u001B[0m feature_index \u001B[38;5;241m=\u001B[39m index\u001B[38;5;241m.\u001B[39mvectorizer\u001B[38;5;241m.\u001B[39mget_feature_names_out()\n\u001B[0;32m      9\u001B[0m \u001B[38;5;66;03m# Sum weights across the column\u001B[39;00m\n\u001B[1;32m---> 10\u001B[0m weight_occurrence \u001B[38;5;241m=\u001B[39m np\u001B[38;5;241m.\u001B[39msum(index\u001B[38;5;241m.\u001B[39mtfidf_matrix[:, feature_index])\n\u001B[0;32m     11\u001B[0m \u001B[38;5;28mprint\u001B[39m(\u001B[38;5;124mf\u001B[39m\u001B[38;5;124m\"\u001B[39m\u001B[38;5;124mTotal weight of term \u001B[39m\u001B[38;5;124m'\u001B[39m\u001B[38;5;132;01m{\u001B[39;00mterm\u001B[38;5;132;01m}\u001B[39;00m\u001B[38;5;124m'\u001B[39m\u001B[38;5;124m: \u001B[39m\u001B[38;5;132;01m{\u001B[39;00mweight_occurrence\u001B[38;5;132;01m}\u001B[39;00m\u001B[38;5;124m\"\u001B[39m)\n",
      "File \u001B[1;32m~\\anaconda3\\Lib\\site-packages\\scipy\\sparse\\_index.py:44\u001B[0m, in \u001B[0;36mIndexMixin.__getitem__\u001B[1;34m(self, key)\u001B[0m\n\u001B[0;32m     43\u001B[0m \u001B[38;5;28;01mdef\u001B[39;00m \u001B[38;5;21m__getitem__\u001B[39m(\u001B[38;5;28mself\u001B[39m, key):\n\u001B[1;32m---> 44\u001B[0m     row, col \u001B[38;5;241m=\u001B[39m \u001B[38;5;28mself\u001B[39m\u001B[38;5;241m.\u001B[39m_validate_indices(key)\n\u001B[0;32m     46\u001B[0m     \u001B[38;5;66;03m# Dispatch to specialized methods.\u001B[39;00m\n\u001B[0;32m     47\u001B[0m     \u001B[38;5;28;01mif\u001B[39;00m \u001B[38;5;28misinstance\u001B[39m(row, INT_TYPES):\n",
      "File \u001B[1;32m~\\anaconda3\\Lib\\site-packages\\scipy\\sparse\\_index.py:165\u001B[0m, in \u001B[0;36mIndexMixin._validate_indices\u001B[1;34m(self, key)\u001B[0m\n\u001B[0;32m    163\u001B[0m         col \u001B[38;5;241m+\u001B[39m\u001B[38;5;241m=\u001B[39m N\n\u001B[0;32m    164\u001B[0m \u001B[38;5;28;01melif\u001B[39;00m \u001B[38;5;129;01mnot\u001B[39;00m \u001B[38;5;28misinstance\u001B[39m(col, \u001B[38;5;28mslice\u001B[39m):\n\u001B[1;32m--> 165\u001B[0m     col \u001B[38;5;241m=\u001B[39m \u001B[38;5;28mself\u001B[39m\u001B[38;5;241m.\u001B[39m_asindices(col, N)\n\u001B[0;32m    167\u001B[0m \u001B[38;5;28;01mreturn\u001B[39;00m row, col\n",
      "File \u001B[1;32m~\\anaconda3\\Lib\\site-packages\\scipy\\sparse\\_index.py:187\u001B[0m, in \u001B[0;36mIndexMixin._asindices\u001B[1;34m(self, idx, length)\u001B[0m\n\u001B[0;32m    185\u001B[0m \u001B[38;5;66;03m# Check bounds\u001B[39;00m\n\u001B[0;32m    186\u001B[0m max_indx \u001B[38;5;241m=\u001B[39m x\u001B[38;5;241m.\u001B[39mmax()\n\u001B[1;32m--> 187\u001B[0m \u001B[38;5;28;01mif\u001B[39;00m max_indx \u001B[38;5;241m>\u001B[39m\u001B[38;5;241m=\u001B[39m length:\n\u001B[0;32m    188\u001B[0m     \u001B[38;5;28;01mraise\u001B[39;00m \u001B[38;5;167;01mIndexError\u001B[39;00m(\u001B[38;5;124m'\u001B[39m\u001B[38;5;124mindex (\u001B[39m\u001B[38;5;132;01m%d\u001B[39;00m\u001B[38;5;124m) out of range\u001B[39m\u001B[38;5;124m'\u001B[39m \u001B[38;5;241m%\u001B[39m max_indx)\n\u001B[0;32m    190\u001B[0m min_indx \u001B[38;5;241m=\u001B[39m x\u001B[38;5;241m.\u001B[39mmin()\n",
      "\u001B[1;31mTypeError\u001B[0m: '>=' not supported between instances of 'str' and 'int'"
     ]
    }
   ],
   "execution_count": 46
  }
 ],
 "metadata": {
  "kernelspec": {
   "display_name": "Python 3",
   "language": "python",
   "name": "python3"
  },
  "language_info": {
   "codemirror_mode": {
    "name": "ipython",
    "version": 2
   },
   "file_extension": ".py",
   "mimetype": "text/x-python",
   "name": "python",
   "nbconvert_exporter": "python",
   "pygments_lexer": "ipython2",
   "version": "2.7.6"
  }
 },
 "nbformat": 4,
 "nbformat_minor": 5
}
