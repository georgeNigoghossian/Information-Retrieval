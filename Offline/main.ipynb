{
 "cells": [
  {
   "metadata": {},
   "cell_type": "markdown",
   "source": "",
   "id": "4b671fed1d002441"
  },
  {
   "metadata": {},
   "cell_type": "markdown",
   "source": "## Create a new Index",
   "id": "310ad2bcae2bf6c4"
  },
  {
   "metadata": {
    "ExecuteTime": {
     "end_time": "2024-05-26T17:24:54.384016Z",
     "start_time": "2024-05-26T17:18:22.480893Z"
    }
   },
   "cell_type": "code",
   "source": [
    "from Helper.timing import Timing\n",
    "from Helper.ORM import fetch_records\n",
    "from Pipeline.index.index import Index\n",
    "\n",
    "with Timing('Creating Index...'):\n",
    "    records = fetch_records(model=\"Corpus\")\n",
    "    documents = [rec.text for rec in records]\n",
    "    index = Index(records)\n",
    "    index.save(model_name=\"Pipeline/index/Saved/wiki_model.pickle\",\n",
    "               tfidf_name=\"Pipeline/index/Saved/wiki_tfidf.pickle\",\n",
    "               keys_name=\"Pipeline/index/Saved/wiki_keys.pickle\")\n",
    "    \n",
    "print(index.tfidf_matrix.shape[1])"
   ],
   "id": "94f4e549db8e8a37",
   "outputs": [
    {
     "name": "stdout",
     "output_type": "stream",
     "text": [
      "Creating Index... elapsed time: 391.8957905769348\n",
      "794562\n"
     ]
    }
   ],
   "execution_count": 13
  },
  {
   "metadata": {},
   "cell_type": "markdown",
   "source": "## Load existing Index",
   "id": "67f33c03d43e1ebe"
  },
  {
   "metadata": {
    "ExecuteTime": {
     "end_time": "2024-05-27T16:10:00.333810Z",
     "start_time": "2024-05-27T16:09:56.205671Z"
    }
   },
   "cell_type": "code",
   "source": [
    "from Pipeline.index.index import Index\n",
    "\n",
    "index = Index.load(model_name=\"Pipeline/index/Saved/Lower_Processed/wiki_model369721.pickle\",\n",
    "                   tfidf_name=\"Pipeline/index/Saved/Lower_Processed/wiki_tfidf369721.pickle\",\n",
    "                   keys_name=\"Pipeline/index/Saved/Lower_Processed/wiki_keys369721.pickle\")\n",
    "\n",
    "print(index.tfidf_matrix.shape[1])"
   ],
   "id": "14df0077eb2702da",
   "outputs": [
    {
     "name": "stderr",
     "output_type": "stream",
     "text": [
      "C:\\Users\\Nicol\\anaconda3\\Lib\\site-packages\\spacy\\util.py:910: UserWarning: [W095] Model 'en_core_web_sm' (3.5.0) was trained with spaCy v3.5.0 and may not be 100% compatible with the current version (3.7.4). If you see errors or degraded performance, download a newer compatible model or retrain your custom model with the current spaCy version. For more details and available updates, run: python -m spacy validate\n",
      "  warnings.warn(warn_msg)\n"
     ]
    },
    {
     "name": "stdout",
     "output_type": "stream",
     "text": [
      "794562\n"
     ]
    }
   ],
   "execution_count": 1
  },
  {
   "metadata": {},
   "cell_type": "markdown",
   "source": "# Evaluate the currently loaded index",
   "id": "45f8c921862e0000"
  },
  {
   "metadata": {
    "ExecuteTime": {
     "end_time": "2024-05-27T15:55:27.611337Z",
     "start_time": "2024-05-27T15:55:27.409576Z"
    }
   },
   "cell_type": "code",
   "source": [
    "from Pipeline.Evaluation.eval import evaluate\n",
    "from Helper.timing import Timing\n",
    "\n",
    "\n",
    "with Timing('Evaluating Documents...'):\n",
    "    ev = evaluate(index, \n",
    "                  rel=1,\n",
    "                  qrels_path=\"Pipeline/Evaluation/Wiki/qrels_wiki\",\n",
    "                  queries_path=\"Pipeline/Evaluation/Wiki/queries.csv\", \n",
    "                  run_path=\"Pipeline/Evaluation/Wiki/run_wiki_lower\", \n",
    "                  create_run_file_bool=False)\n",
    "\n",
    "    print(ev)"
   ],
   "id": "bac1c146e60260ac",
   "outputs": [
    {
     "name": "stdout",
     "output_type": "stream",
     "text": [
      "{AP: 0.10026601487943489, R@10: 0.1406048526218518, P@10: 0.15907202216066288, RR: 0.5623883772429485}\n",
      "Evaluating Documents... elapsed time: 0.1963956356048584\n"
     ]
    }
   ],
   "execution_count": 10
  },
  {
   "metadata": {},
   "cell_type": "markdown",
   "source": "# Show Clustered Index Plots",
   "id": "b3c858a3e368e4c3"
  },
  {
   "metadata": {},
   "cell_type": "code",
   "outputs": [],
   "execution_count": null,
   "source": [
    "from Clustering import cluster_index\n",
    "\n",
    "cluster_index(index)"
   ],
   "id": "431653f2bf94faf"
  },
  {
   "metadata": {},
   "cell_type": "markdown",
   "source": "# Search for a certain term",
   "id": "4db7453eae3fdb33"
  },
  {
   "metadata": {
    "ExecuteTime": {
     "end_time": "2024-05-27T16:10:24.082528Z",
     "start_time": "2024-05-27T16:10:21.319819Z"
    }
   },
   "cell_type": "code",
   "source": [
    "from Helper.timing import Timing\n",
    "\n",
    "with Timing('searching...'):\n",
    "  top_documents = index.search('yanni')\n",
    "  for doc_id, score, idx in top_documents:\n",
    "      print(f\"Document {doc_id}: Similarity Score {score}\")"
   ],
   "id": "b7934724a0223075",
   "outputs": [
    {
     "name": "stdout",
     "output_type": "stream",
     "text": [
      "Document 806300: Similarity Score 0.6787888635713526\n",
      "Document 123839: Similarity Score 0.5850978131147955\n",
      "Document 836567: Similarity Score 0.4476886417858691\n",
      "Document 806075: Similarity Score 0.4391356840995299\n",
      "Document 806326: Similarity Score 0.42755843764813245\n",
      "Document 1793430: Similarity Score 0.3579832341169637\n",
      "Document 806263: Similarity Score 0.2609891956629828\n",
      "searching... elapsed time: 2.7566237449645996\n"
     ]
    }
   ],
   "execution_count": 3
  },
  {
   "metadata": {
    "ExecuteTime": {
     "end_time": "2024-05-27T15:55:13.044982Z",
     "start_time": "2024-05-27T15:55:12.992580Z"
    }
   },
   "cell_type": "code",
   "source": [
    "path = 'Pipeline/Evaluation/Wiki/run_wiki_lower'\n",
    "f = open(path, 'r')\n",
    "\n",
    "res = []\n",
    "for line in f.readlines():\n",
    "  string = line\n",
    "  string = string.split()\n",
    "  _, _, _, _, score, _ = string\n",
    "  if float(score) > 0.3:\n",
    "    res.append(line)\n",
    "  \n",
    "f.close()\n",
    "open(path, 'w').close()  \n",
    "f = open(path, 'w')\n",
    "f.write(''.join(res))\n",
    "f.close()"
   ],
   "id": "98333688228ef76",
   "outputs": [],
   "execution_count": 9
  }
 ],
 "metadata": {
  "kernelspec": {
   "display_name": "Python 3",
   "language": "python",
   "name": "python3"
  },
  "language_info": {
   "codemirror_mode": {
    "name": "ipython",
    "version": 2
   },
   "file_extension": ".py",
   "mimetype": "text/x-python",
   "name": "python",
   "nbconvert_exporter": "python",
   "pygments_lexer": "ipython2",
   "version": "2.7.6"
  }
 },
 "nbformat": 4,
 "nbformat_minor": 5
}
