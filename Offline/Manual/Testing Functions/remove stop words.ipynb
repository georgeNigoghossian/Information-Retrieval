{
 "cells": [
  {
   "cell_type": "code",
   "id": "initial_id",
   "metadata": {
    "ExecuteTime": {
     "end_time": "2024-04-30T16:59:30.475500Z",
     "start_time": "2024-04-30T16:59:27.969962Z"
    }
   },
   "source": [
    "from datetime import datetime\n",
    "from nltk.corpus import stopwords\n",
    "from nltk.tokenize import word_tokenize\n",
    "import spacy\n",
    "from gensim.parsing.preprocessing import remove_stopwords\n"
   ],
   "outputs": [
    {
     "ename": "ModuleNotFoundError",
     "evalue": "No module named 'spacy'",
     "output_type": "error",
     "traceback": [
      "\u001B[1;31m---------------------------------------------------------------------------\u001B[0m",
      "\u001B[1;31mModuleNotFoundError\u001B[0m                       Traceback (most recent call last)",
      "Cell \u001B[1;32mIn[1], line 4\u001B[0m\n\u001B[0;32m      2\u001B[0m \u001B[38;5;28;01mfrom\u001B[39;00m \u001B[38;5;21;01mnltk\u001B[39;00m\u001B[38;5;21;01m.\u001B[39;00m\u001B[38;5;21;01mcorpus\u001B[39;00m \u001B[38;5;28;01mimport\u001B[39;00m stopwords\n\u001B[0;32m      3\u001B[0m \u001B[38;5;28;01mfrom\u001B[39;00m \u001B[38;5;21;01mnltk\u001B[39;00m\u001B[38;5;21;01m.\u001B[39;00m\u001B[38;5;21;01mtokenize\u001B[39;00m \u001B[38;5;28;01mimport\u001B[39;00m word_tokenize\n\u001B[1;32m----> 4\u001B[0m \u001B[38;5;28;01mimport\u001B[39;00m \u001B[38;5;21;01mspacy\u001B[39;00m\n\u001B[0;32m      5\u001B[0m \u001B[38;5;28;01mfrom\u001B[39;00m \u001B[38;5;21;01mgensim\u001B[39;00m\u001B[38;5;21;01m.\u001B[39;00m\u001B[38;5;21;01mparsing\u001B[39;00m\u001B[38;5;21;01m.\u001B[39;00m\u001B[38;5;21;01mpreprocessing\u001B[39;00m \u001B[38;5;28;01mimport\u001B[39;00m remove_stopwords\n",
      "\u001B[1;31mModuleNotFoundError\u001B[0m: No module named 'spacy'"
     ]
    }
   ],
   "execution_count": 1
  },
  {
   "cell_type": "code",
   "id": "8ee0064e6f3d44ce",
   "metadata": {},
   "source": [
    "from Helper.ORM import fetch_records\n",
    "\n",
    "records1 = fetch_records('../dataset1.db', 1000)\n",
    "records1 = [record.text for record in records1]"
   ],
   "outputs": [],
   "execution_count": null
  },
  {
   "cell_type": "code",
   "id": "838b138467355e0e",
   "metadata": {
    "ExecuteTime": {
     "end_time": "2024-04-30T16:59:30.483511Z",
     "start_time": "2024-04-30T16:59:30.482512Z"
    }
   },
   "source": [
    "from Helper.ORM import fetch_records\n",
    "\n",
    "records2 = fetch_records('../dataset2.db', 1000)\n",
    "records2 = [record.text for record in records2]"
   ],
   "outputs": [],
   "execution_count": null
  },
  {
   "cell_type": "code",
   "id": "55130d36f2a8e832",
   "metadata": {
    "ExecuteTime": {
     "end_time": "2024-04-30T16:59:30.485512Z",
     "start_time": "2024-04-30T16:59:30.485512Z"
    }
   },
   "source": [
    "records = records1"
   ],
   "outputs": [],
   "execution_count": null
  },
  {
   "cell_type": "code",
   "id": "c6f6e812561555d7",
   "metadata": {},
   "source": [
    "def remove_stopwords_custom(tokezed_words, stop_words):\n",
    "    filtered_text = [word for word in tokezed_words if word not in stop_words]\n",
    "    return filtered_text\n",
    "\n",
    "\n",
    "stop_words = set(stopwords.words('english'))\n",
    "\n",
    "word_tokens_arr = []\n",
    "\n",
    "\n",
    "for record in records:\n",
    "  record = record.lower()\n",
    "  word_tokens_arr.append(word_tokenize(record))\n",
    "\n",
    "\n",
    "startTime = datetime.now()\n",
    "for word_tokens in word_tokens_arr:\n",
    "  remove_stopwords_custom(word_tokens, stop_words)\n",
    "end_time = datetime.now()\n",
    "print(end_time - startTime)"
   ],
   "outputs": [],
   "execution_count": null
  },
  {
   "cell_type": "code",
   "id": "53ac8b3bfdd713e9",
   "metadata": {},
   "source": [
    "nlp = spacy.load(\"en_core_web_sm\")\n",
    " \n",
    "\n",
    "startTime = datetime.now()\n",
    "for record in records:\n",
    "    doc = nlp(record)\n",
    "    filtered_words = [token.text for token in doc if not token.is_stop]\n",
    "end_time = datetime.now()\n",
    "\n",
    "print(end_time - startTime)"
   ],
   "outputs": [],
   "execution_count": null
  },
  {
   "cell_type": "code",
   "id": "fa745642",
   "metadata": {},
   "source": [
    "startTime = datetime.now()\n",
    "for record in records:\n",
    "    new_filtered_text = remove_stopwords(record)\n",
    "end_time = datetime.now()\n",
    "\n",
    "print(end_time - startTime)"
   ],
   "outputs": [],
   "execution_count": null
  }
 ],
 "metadata": {
  "kernelspec": {
   "display_name": "Python 3 (ipykernel)",
   "language": "python",
   "name": "python3"
  },
  "language_info": {
   "codemirror_mode": {
    "name": "ipython",
    "version": 3
   },
   "file_extension": ".py",
   "mimetype": "text/x-python",
   "name": "python",
   "nbconvert_exporter": "python",
   "pygments_lexer": "ipython3",
   "version": "3.9.19"
  }
 },
 "nbformat": 4,
 "nbformat_minor": 5
}
