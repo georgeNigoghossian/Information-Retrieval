{
 "cells": [
  {
   "cell_type": "code",
   "id": "initial_id",
   "metadata": {
    "collapsed": true,
    "ExecuteTime": {
     "end_time": "2024-04-28T11:10:48.823379Z",
     "start_time": "2024-04-28T11:10:48.812343Z"
    }
   },
   "source": [
    "from datetime import datetime\n",
    "import sqlite3\n",
    "import string\n",
    "import re\n",
    "from nltk.corpus import stopwords\n",
    "from nltk.tokenize import word_tokenize"
   ],
   "outputs": [],
   "execution_count": 5
  },
  {
   "metadata": {
    "ExecuteTime": {
     "end_time": "2024-04-28T11:10:48.853863Z",
     "start_time": "2024-04-28T11:10:48.823379Z"
    }
   },
   "cell_type": "code",
   "source": [
    "sqliteConnection1 = sqlite3.connect('../dataset1.db')\n",
    "cursor1 = sqliteConnection1.cursor()\n",
    "\n",
    "cursor1.execute(\"\"\"SELECT * FROM corpus LIMIT 10000;\"\"\")\n",
    "records1 = cursor1.fetchall()\n",
    "records1 = [record[1] for record in records1]"
   ],
   "id": "8ee0064e6f3d44ce",
   "outputs": [],
   "execution_count": 6
  },
  {
   "metadata": {
    "ExecuteTime": {
     "end_time": "2024-04-28T11:10:48.903339Z",
     "start_time": "2024-04-28T11:10:48.853863Z"
    }
   },
   "cell_type": "code",
   "source": [
    "sqliteConnection2 = sqlite3.connect('../dataset2.db')\n",
    "cursor2 = sqliteConnection2.cursor()\n",
    "\n",
    "cursor2.execute(\"\"\"SELECT * FROM corpus LIMIT 10000;\"\"\")\n",
    "records2 = cursor2.fetchall()\n",
    "records2 = [record[1] for record in records2]"
   ],
   "id": "838b138467355e0e",
   "outputs": [],
   "execution_count": 7
  },
  {
   "metadata": {
    "ExecuteTime": {
     "end_time": "2024-04-28T11:10:48.908462Z",
     "start_time": "2024-04-28T11:10:48.903339Z"
    }
   },
   "cell_type": "code",
   "source": "records = records1",
   "id": "55130d36f2a8e832",
   "outputs": [],
   "execution_count": 8
  },
  {
   "metadata": {
    "ExecuteTime": {
     "end_time": "2024-04-28T11:10:51.702745Z",
     "start_time": "2024-04-28T11:10:48.909967Z"
    }
   },
   "cell_type": "code",
   "source": [
    "def remove_stopwords(tokezed_words, stop_words):\n",
    "    filtered_text = [word for word in tokezed_words if word not in stop_words]\n",
    "    return filtered_text\n",
    "\n",
    "\n",
    "stop_words = set(stopwords.words('english'))\n",
    "\n",
    "word_tokens_arr = []\n",
    "\n",
    "\n",
    "for record in records:\n",
    "  record = record.lower()\n",
    "  word_tokens_arr.append(word_tokenize(record))\n",
    "\n",
    "\n",
    "startTime = datetime.now()\n",
    "for word_tokens in word_tokens_arr:\n",
    "  remove_stopwords(word_tokens, stop_words)\n",
    "end_time = datetime.now()\n",
    "print(end_time - startTime)"
   ],
   "id": "c6f6e812561555d7",
   "outputs": [
    {
     "name": "stdout",
     "output_type": "stream",
     "text": [
      "0:00:00.031745\n"
     ]
    }
   ],
   "execution_count": 9
  },
  {
   "metadata": {
    "ExecuteTime": {
     "end_time": "2024-04-28T11:10:54.336085Z",
     "start_time": "2024-04-28T11:10:54.331398Z"
    }
   },
   "cell_type": "code",
   "source": "",
   "id": "53ac8b3bfdd713e9",
   "outputs": [],
   "execution_count": 10
  }
 ],
 "metadata": {
  "kernelspec": {
   "display_name": "Python 3",
   "language": "python",
   "name": "python3"
  },
  "language_info": {
   "codemirror_mode": {
    "name": "ipython",
    "version": 2
   },
   "file_extension": ".py",
   "mimetype": "text/x-python",
   "name": "python",
   "nbconvert_exporter": "python",
   "pygments_lexer": "ipython2",
   "version": "2.7.6"
  }
 },
 "nbformat": 4,
 "nbformat_minor": 5
}
