{
 "cells": [
  {
   "metadata": {
    "ExecuteTime": {
     "end_time": "2024-04-28T08:31:56.419888Z",
     "start_time": "2024-04-28T08:31:56.408689Z"
    }
   },
   "cell_type": "code",
   "source": [
    "from datetime import datetime\n",
    "import sqlite3\n",
    "import string\n",
    "import re"
   ],
   "id": "b7f68f0176139a91",
   "outputs": [],
   "execution_count": 119
  },
  {
   "metadata": {
    "ExecuteTime": {
     "end_time": "2024-04-28T08:31:56.446350Z",
     "start_time": "2024-04-28T08:31:56.424402Z"
    }
   },
   "cell_type": "code",
   "source": [
    "sqliteConnection1 = sqlite3.connect('../dataset1.db')\n",
    "cursor1 = sqliteConnection1.cursor()\n",
    "\n",
    "cursor1.execute(\"\"\"SELECT * FROM corpus LIMIT 10000;\"\"\")\n",
    "records1 = cursor1.fetchall()\n",
    "records1 = [record[1] for record in records1]"
   ],
   "id": "initial_id",
   "outputs": [],
   "execution_count": 120
  },
  {
   "metadata": {
    "ExecuteTime": {
     "end_time": "2024-04-28T08:31:56.998634Z",
     "start_time": "2024-04-28T08:31:56.446350Z"
    }
   },
   "cell_type": "code",
   "source": [
    "sqliteConnection2 = sqlite3.connect('../dataset2.db')\n",
    "cursor2 = sqliteConnection2.cursor()\n",
    "\n",
    "cursor2.execute(\"\"\"SELECT * FROM corpus LIMIT 10000;\"\"\")\n",
    "records2 = cursor2.fetchall()\n",
    "records2 = [record[1] for record in records2]"
   ],
   "id": "a14453cb420e02f3",
   "outputs": [],
   "execution_count": 121
  },
  {
   "metadata": {
    "ExecuteTime": {
     "end_time": "2024-04-28T08:31:57.008008Z",
     "start_time": "2024-04-28T08:31:56.998634Z"
    }
   },
   "cell_type": "code",
   "source": "records = records2",
   "id": "d42c0a5e3402cfae",
   "outputs": [],
   "execution_count": 122
  },
  {
   "metadata": {
    "ExecuteTime": {
     "end_time": "2024-04-28T08:31:57.861606Z",
     "start_time": "2024-04-28T08:31:57.008008Z"
    }
   },
   "cell_type": "code",
   "source": [
    "result_trans = []\n",
    "\n",
    "startTime = datetime.now()\n",
    "for test_str in records:\n",
    "  result_trans.append(test_str.translate(str.maketrans('', '', string.punctuation)))\n",
    "end_time = datetime.now()\n",
    "\n",
    "trans_time = end_time - startTime"
   ],
   "id": "174ba736069fca85",
   "outputs": [],
   "execution_count": 123
  },
  {
   "metadata": {
    "ExecuteTime": {
     "end_time": "2024-04-28T08:32:10.894922Z",
     "start_time": "2024-04-28T08:31:57.863649Z"
    }
   },
   "cell_type": "code",
   "source": [
    "def remove_punctuation(test_str):\n",
    "  result = ''.join(filter(lambda x: x.isalpha() or x.isdigit() or x.isspace(), test_str))\n",
    "  return result\n",
    "\n",
    "result_lambda = []\n",
    "startTime = datetime.now()\n",
    "for test_str in records:\n",
    "  result_lambda.append(remove_punctuation(test_str))\n",
    "end_time = datetime.now()\n",
    "\n",
    "lambda_time = end_time - startTime"
   ],
   "id": "e8499d60874dd872",
   "outputs": [],
   "execution_count": 124
  },
  {
   "metadata": {
    "ExecuteTime": {
     "end_time": "2024-04-28T08:32:12.419951Z",
     "start_time": "2024-04-28T08:32:10.894922Z"
    }
   },
   "cell_type": "code",
   "source": [
    "result_regex = []\n",
    "startTime = datetime.now()\n",
    "for test_str in records:\n",
    "  result_regex.append(re.sub(r'[^\\w\\s]', '', test_str))\n",
    "end_time = datetime.now()\n",
    "\n",
    "regex_time = end_time - startTime"
   ],
   "id": "4498dab45ae9c190",
   "outputs": [],
   "execution_count": 125
  },
  {
   "metadata": {
    "ExecuteTime": {
     "end_time": "2024-04-28T08:32:12.430020Z",
     "start_time": "2024-04-28T08:32:12.422467Z"
    }
   },
   "cell_type": "code",
   "source": [
    "print(\"regex_time:\", regex_time)\n",
    "print(\"trans_time:\", trans_time)\n",
    "print(\"lambda_time:\", lambda_time)"
   ],
   "id": "8e641e8b33cf4ad6",
   "outputs": [
    {
     "name": "stdout",
     "output_type": "stream",
     "text": [
      "regex_time: 0:00:01.480728\n",
      "trans_time: 0:00:00.803238\n",
      "lambda_time: 0:00:12.980211\n"
     ]
    }
   ],
   "execution_count": 126
  }
 ],
 "metadata": {
  "kernelspec": {
   "display_name": "Python 3",
   "language": "python",
   "name": "python3"
  },
  "language_info": {
   "codemirror_mode": {
    "name": "ipython",
    "version": 2
   },
   "file_extension": ".py",
   "mimetype": "text/x-python",
   "name": "python",
   "nbconvert_exporter": "python",
   "pygments_lexer": "ipython2",
   "version": "2.7.6"
  }
 },
 "nbformat": 4,
 "nbformat_minor": 5
}
