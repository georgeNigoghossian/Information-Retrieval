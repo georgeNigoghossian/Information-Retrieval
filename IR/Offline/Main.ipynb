{
 "cells": [
  {
   "cell_type": "markdown",
   "id": "0186e707",
   "metadata": {},
   "source": [
    "## Tokenizer"
   ]
  },
  {
   "cell_type": "code",
   "execution_count": null,
   "id": "543ad95f",
   "metadata": {},
   "outputs": [],
   "source": [
    "from sklearn.feature_extraction.text import TfidfVectorizer\n",
    "import re\n",
    "from nltk.stem import PorterStemmer\n",
    "from nltk.stem import WordNetLemmatizer\n",
    "from nltk import pos_tag\n",
    "from nltk.corpus import stopwords\n",
    "import pandas as pd\n",
    "\n",
    "stemmer = PorterStemmer()\n",
    "lemmatizer = WordNetLemmatizer()\n",
    "\n",
    "def remove_punctuation(text):\n",
    "    return re.sub(r'[^\\w\\s]', '', text)\n",
    "\n",
    "def remove_stopwords(text):\n",
    "    stop_words = set(stopwords.words('english'))\n",
    "    filtered_text = [word for word in text.split() if word.lower() not in stop_words]\n",
    "    return ' '.join(filtered_text)\n",
    "\n",
    "def stem_and_lemmatize(text):\n",
    "    tokens = text.split()\n",
    "    stemmed_and_lemmatized_words = [lemmatizer.lemmatize(stemmer.stem(word)) for word in tokens]\n",
    "    return ' '.join(stemmed_and_lemmatized_words)\n",
    "\n",
    "def preprocessor(text):\n",
    "    text = text.lower()\n",
    "    unpunctuated = remove_punctuation(text)\n",
    "    no_stop_words = remove_stopwords(unpunctuated)\n",
    "    stemmed_and_lemmatized = stem_and_lemmatize(no_stop_words)\n",
    "    return stemmed_and_lemmatized\n",
    "\n",
    "corpus = {\n",
    "    \"doc_1\": \"Software engineering at Damascus university Software\",\n",
    "    \"doc_2\": \"Information retrieval at Damascus university\",\n",
    "    \"doc_3\": \"Indexing Information retrieval\"\n",
    "}\n",
    "\n",
    "vectorizer = TfidfVectorizer(preprocessor=preprocessor, ngram_range=(1, 2), min_df=2)\n",
    "\n",
    "documents = list(corpus.values())\n",
    "tfidf_matrix = vectorizer.fit_transform(documents)\n",
    "\n",
    "df = pd.DataFrame(tfidf_matrix.toarray(), columns=vectorizer.get_feature_names_out(), index=corpus.keys())\n",
    "\n",
    "df\n"
   ]
  },
  {
   "cell_type": "code",
   "execution_count": null,
   "id": "befd7731",
   "metadata": {},
   "outputs": [],
   "source": []
  }
 ],
 "metadata": {
  "kernelspec": {
   "display_name": "Python 3 (ipykernel)",
   "language": "python",
   "name": "python3"
  },
  "language_info": {
   "codemirror_mode": {
    "name": "ipython",
    "version": 3
   },
   "file_extension": ".py",
   "mimetype": "text/x-python",
   "name": "python",
   "nbconvert_exporter": "python",
   "pygments_lexer": "ipython3",
   "version": "3.9.19"
  }
 },
 "nbformat": 4,
 "nbformat_minor": 5
}
