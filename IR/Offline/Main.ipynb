{
 "cells": [
  {
   "cell_type": "markdown",
   "id": "0186e707",
   "metadata": {},
   "source": [
    "## Tokenizer"
   ]
  },
  {
   "cell_type": "code",
   "id": "543ad95f",
   "metadata": {
    "ExecuteTime": {
     "end_time": "2024-04-28T10:56:13.513532Z",
     "start_time": "2024-04-28T10:56:13.486127Z"
    }
   },
   "source": [
    "from sklearn.feature_extraction.text import TfidfVectorizer\n",
    "import re\n",
    "from nltk.stem import PorterStemmer\n",
    "from nltk.stem import WordNetLemmatizer\n",
    "from nltk.corpus import stopwords\n",
    "import pandas as pd\n",
    "\n",
    "stemmer = PorterStemmer()\n",
    "lemmatizer = WordNetLemmatizer()\n",
    "\n",
    "def remove_punctuation(text):\n",
    "    return re.sub(r'[^\\w\\s]', '', text)\n",
    "\n",
    "def remove_stopwords(text):\n",
    "    stop_words = set(stopwords.words('english'))\n",
    "    filtered_text = [word for word in text.split() if word not in stop_words]\n",
    "    return ' '.join(filtered_text)\n",
    "\n",
    "def stem_and_lemmatize(text):\n",
    "    tokens = text.split()\n",
    "    stemmed_and_lemmatized_words = [lemmatizer.lemmatize(stemmer.stem(word)) for word in tokens]\n",
    "    return ' '.join(stemmed_and_lemmatized_words)\n",
    "\n",
    "def preprocessor(text):\n",
    "    unpunctuated = remove_punctuation(text)\n",
    "    no_stop_words = remove_stopwords(unpunctuated)\n",
    "    stemmed_and_lemmatized = stem_and_lemmatize(no_stop_words)\n",
    "    return stemmed_and_lemmatized\n",
    "\n",
    "corpus = {\n",
    "    \"doc_1\": \"Software engineering at Damascus university Software\",\n",
    "    \"doc_2\": \"Information retrieval at Damascus university\",\n",
    "    \"doc_3\": \"Indexing Information retrieval\"\n",
    "}\n",
    "\n",
    "vectorizer = TfidfVectorizer(preprocessor=preprocessor, ngram_range=(1, 2), min_df=2)\n",
    "\n",
    "documents = list(corpus.values())\n",
    "tfidf_matrix = vectorizer.fit_transform(documents)\n",
    "\n",
    "df = pd.DataFrame(tfidf_matrix.toarray(), columns=vectorizer.get_feature_names_out(), index=corpus.keys())\n",
    "\n",
    "df\n"
   ],
   "outputs": [
    {
     "data": {
      "text/plain": [
       "             at  at damascus  damascus  damascus university  information  \\\n",
       "doc_1  0.447214     0.447214  0.447214             0.447214     0.000000   \n",
       "doc_2  0.353553     0.353553  0.353553             0.353553     0.353553   \n",
       "doc_3  0.000000     0.000000  0.000000             0.000000     0.577350   \n",
       "\n",
       "       information retrieval  retrieval  university  \n",
       "doc_1               0.000000   0.000000    0.447214  \n",
       "doc_2               0.353553   0.353553    0.353553  \n",
       "doc_3               0.577350   0.577350    0.000000  "
      ],
      "text/html": [
       "<div>\n",
       "<style scoped>\n",
       "    .dataframe tbody tr th:only-of-type {\n",
       "        vertical-align: middle;\n",
       "    }\n",
       "\n",
       "    .dataframe tbody tr th {\n",
       "        vertical-align: top;\n",
       "    }\n",
       "\n",
       "    .dataframe thead th {\n",
       "        text-align: right;\n",
       "    }\n",
       "</style>\n",
       "<table border=\"1\" class=\"dataframe\">\n",
       "  <thead>\n",
       "    <tr style=\"text-align: right;\">\n",
       "      <th></th>\n",
       "      <th>at</th>\n",
       "      <th>at damascus</th>\n",
       "      <th>damascus</th>\n",
       "      <th>damascus university</th>\n",
       "      <th>information</th>\n",
       "      <th>information retrieval</th>\n",
       "      <th>retrieval</th>\n",
       "      <th>university</th>\n",
       "    </tr>\n",
       "  </thead>\n",
       "  <tbody>\n",
       "    <tr>\n",
       "      <th>doc_1</th>\n",
       "      <td>0.447214</td>\n",
       "      <td>0.447214</td>\n",
       "      <td>0.447214</td>\n",
       "      <td>0.447214</td>\n",
       "      <td>0.000000</td>\n",
       "      <td>0.000000</td>\n",
       "      <td>0.000000</td>\n",
       "      <td>0.447214</td>\n",
       "    </tr>\n",
       "    <tr>\n",
       "      <th>doc_2</th>\n",
       "      <td>0.353553</td>\n",
       "      <td>0.353553</td>\n",
       "      <td>0.353553</td>\n",
       "      <td>0.353553</td>\n",
       "      <td>0.353553</td>\n",
       "      <td>0.353553</td>\n",
       "      <td>0.353553</td>\n",
       "      <td>0.353553</td>\n",
       "    </tr>\n",
       "    <tr>\n",
       "      <th>doc_3</th>\n",
       "      <td>0.000000</td>\n",
       "      <td>0.000000</td>\n",
       "      <td>0.000000</td>\n",
       "      <td>0.000000</td>\n",
       "      <td>0.577350</td>\n",
       "      <td>0.577350</td>\n",
       "      <td>0.577350</td>\n",
       "      <td>0.000000</td>\n",
       "    </tr>\n",
       "  </tbody>\n",
       "</table>\n",
       "</div>"
      ]
     },
     "execution_count": 10,
     "metadata": {},
     "output_type": "execute_result"
    }
   ],
   "execution_count": 10
  },
  {
   "metadata": {},
   "cell_type": "code",
   "outputs": [],
   "execution_count": null,
   "source": "",
   "id": "aad5a7569997a342"
  }
 ],
 "metadata": {
  "kernelspec": {
   "display_name": "Python 3 (ipykernel)",
   "language": "python",
   "name": "python3"
  },
  "language_info": {
   "codemirror_mode": {
    "name": "ipython",
    "version": 3
   },
   "file_extension": ".py",
   "mimetype": "text/x-python",
   "name": "python",
   "nbconvert_exporter": "python",
   "pygments_lexer": "ipython3",
   "version": "3.9.19"
  }
 },
 "nbformat": 4,
 "nbformat_minor": 5
}
