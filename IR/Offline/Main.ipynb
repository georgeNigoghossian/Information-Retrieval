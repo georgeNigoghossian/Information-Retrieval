{
 "cells": [
  {
   "cell_type": "markdown",
   "id": "d9b5ce34",
   "metadata": {},
   "source": [
    "## Test Corpus"
   ]
  },
  {
   "cell_type": "code",
   "execution_count": 4,
   "id": "b49de57e",
   "metadata": {},
   "outputs": [],
   "source": [
    "from nltk.tokenize import word_tokenize\n",
    "\n",
    "corpus = {\n",
    "    \"doc_1\": \"Softwar engineering at Damascus university Software\",\n",
    "    \"doc_2\": \"Information retrieval at Damascus university\",\n",
    "    \"doc_3\": \"Indexing Information retrieval\"\n",
    "}\n",
    "\n",
    "test_tokens = word_tokenize(corpus['doc_1']);"
   ]
  },
  {
   "cell_type": "markdown",
   "id": "54da15a4",
   "metadata": {},
   "source": [
    "## Remove Punctuation"
   ]
  },
  {
   "cell_type": "code",
   "execution_count": 5,
   "id": "e64a22ba",
   "metadata": {},
   "outputs": [
    {
     "data": {
      "text/plain": [
       "['Softwar', 'engineering', 'at', 'Damascus', 'university', 'Software']"
      ]
     },
     "execution_count": 5,
     "metadata": {},
     "output_type": "execute_result"
    }
   ],
   "source": [
    "import string\n",
    "\n",
    "def remove_punctuation(tokens):\n",
    "    translator = str.maketrans('', '', string.punctuation)\n",
    "    tokens_punctuated = [token.translate(translator) for token in tokens]\n",
    "    return tokens_punctuated\n",
    "\n",
    "remove_punctuation(test_tokens)"
   ]
  },
  {
   "cell_type": "markdown",
   "id": "45be5191",
   "metadata": {},
   "source": [
    "## Remove Stopwords"
   ]
  },
  {
   "cell_type": "code",
   "execution_count": 6,
   "id": "34b67a5b",
   "metadata": {},
   "outputs": [
    {
     "data": {
      "text/plain": [
       "['Softwar', 'engineering', 'Damascus', 'university', 'Software']"
      ]
     },
     "execution_count": 6,
     "metadata": {},
     "output_type": "execute_result"
    }
   ],
   "source": [
    "from nltk.corpus import stopwords\n",
    "\n",
    "def remove_stopwords(tokens):\n",
    "    stop_words = set(stopwords.words('english'))\n",
    "    filtered_tokens = [word for word in tokens if word not in stop_words]\n",
    "    return filtered_tokens\n",
    "\n",
    "remove_stopwords(test_tokens)"
   ]
  },
  {
   "cell_type": "markdown",
   "id": "9aea8929",
   "metadata": {},
   "source": [
    "## Unify Abbreviation"
   ]
  },
  {
   "cell_type": "code",
   "execution_count": 34,
   "id": "5705620d",
   "metadata": {},
   "outputs": [
    {
     "name": "stdout",
     "output_type": "stream",
     "text": [
      "Apple ORG\n",
      "WHO ORG\n",
      "$1 billion MONEY\n"
     ]
    }
   ],
   "source": [
    "import spacy\n",
    "\n",
    "# Load the English language model\n",
    "nlp = spacy.load(\"en_core_web_sm\")\n",
    "\n",
    "# Function to generate entity mappings dynamically\n",
    "def generate_entity_mappings(doc):\n",
    "    entity_mappings = {}\n",
    "    for ent in doc.ents:\n",
    "        if ent.label_ == \"ORG\" and len(ent.text.split()) > 1:\n",
    "            # Take the first letter of each word in the organization name\n",
    "            abbreviation = ''.join(word[0] for word in ent.text.split())\n",
    "            entity_mappings[ent.text] = abbreviation\n",
    "    return entity_mappings\n",
    "\n",
    "# Function to map entity text to abbreviations\n",
    "def map_entity_to_abbreviation(entity_text, entity_mappings):\n",
    "    return entity_mappings.get(entity_text, entity_text)\n",
    "\n",
    "text = \"Apple is looking at buying World Health Organisation startup for $1 billion\"\n",
    "doc = nlp(text)\n",
    "\n",
    "# Generate entity mappings dynamically\n",
    "entity_mappings = generate_entity_mappings(doc)\n",
    "\n",
    "# Iterate over the entities in the document\n",
    "for ent in doc.ents:\n",
    "    # Get abbreviation if available, otherwise use the original text\n",
    "    abbreviated_entity = map_entity_to_abbreviation(ent.text, entity_mappings)\n",
    "    print(abbreviated_entity, ent.label_)\n"
   ]
  },
  {
   "cell_type": "markdown",
   "id": "dcbf8eb0",
   "metadata": {},
   "source": [
    "## Spell Checker"
   ]
  },
  {
   "cell_type": "code",
   "execution_count": 8,
   "id": "51047950",
   "metadata": {
    "scrolled": true
   },
   "outputs": [
    {
     "data": {
      "text/plain": [
       "['Software', 'engineering', 'at', 'Damascus', 'university', 'Software']"
      ]
     },
     "execution_count": 8,
     "metadata": {},
     "output_type": "execute_result"
    }
   ],
   "source": [
    "\n",
    "from autocorrect import Speller\n",
    "\n",
    "spell = Speller(lang='en')\n",
    "\n",
    "def correct_sentence_spelling(tokens):\n",
    "    corrected_tokens = []\n",
    "    for token in tokens:\n",
    "        corrected_tokens.append(spell(token))\n",
    "    return corrected_tokens\n",
    "\n",
    "correct_sentence_spelling(test_tokens)"
   ]
  },
  {
   "cell_type": "markdown",
   "id": "82f54141",
   "metadata": {},
   "source": [
    "## Stemmer"
   ]
  },
  {
   "cell_type": "code",
   "execution_count": 9,
   "id": "23cd67db",
   "metadata": {},
   "outputs": [
    {
     "data": {
      "text/plain": [
       "['softwar', 'engin', 'at', 'damascu', 'univers', 'softwar']"
      ]
     },
     "execution_count": 9,
     "metadata": {},
     "output_type": "execute_result"
    }
   ],
   "source": [
    "from nltk.stem import PorterStemmer\n",
    "\n",
    "def stem(tokens):\n",
    "    stemmer = PorterStemmer()\n",
    "    stemmed_tokens = [stemmer.stem(word) for word in tokens]\n",
    "    return stemmed_tokens\n",
    "\n",
    "stem(test_tokens)"
   ]
  },
  {
   "cell_type": "markdown",
   "id": "0e19a80a",
   "metadata": {},
   "source": [
    "## Lemmatizer"
   ]
  },
  {
   "cell_type": "code",
   "execution_count": 10,
   "id": "20c2a6d5",
   "metadata": {},
   "outputs": [
    {
     "data": {
      "text/plain": [
       "['Softwar', 'engineering', 'at', 'Damascus', 'university', 'Software']"
      ]
     },
     "execution_count": 10,
     "metadata": {},
     "output_type": "execute_result"
    }
   ],
   "source": [
    "from nltk.stem import WordNetLemmatizer\n",
    "\n",
    "def lemmatize(tokens):\n",
    "    lemmatizer = WordNetLemmatizer()\n",
    "    lemmatized_tokens = [lemmatizer.lemmatize(word) for word in tokens]\n",
    "    return lemmatized_tokens\n",
    "\n",
    "lemmatize(test_tokens)"
   ]
  },
  {
   "cell_type": "markdown",
   "id": "c70aef2a",
   "metadata": {},
   "source": [
    "## Preprocessor"
   ]
  },
  {
   "cell_type": "code",
   "execution_count": 11,
   "id": "ceb95267",
   "metadata": {},
   "outputs": [],
   "source": [
    "from nltk.tokenize import word_tokenize\n",
    "\n",
    "def preprocessor(text):\n",
    "    text = text.lower()\n",
    "    \n",
    "    tokens = word_tokenize(text)\n",
    "\n",
    "    unpunctuated_tokens = remove_punctuation(tokens)\n",
    "    no_stop_words_tokens = remove_stopwords(unpunctuated_tokens)\n",
    "    spell_checked_tokens = correct_sentence_spelling(no_stop_words_tokens)\n",
    "    stemmed_tokens = stem(spell_checked_tokens)\n",
    "    lemmatized_tokens = lemmatize(stemmed_tokens)\n",
    "    \n",
    "    processed_text = ' '.join(lemmatized_tokens);\n",
    "    \n",
    "    return processed_text\n"
   ]
  },
  {
   "cell_type": "markdown",
   "id": "0164e089",
   "metadata": {},
   "source": [
    "## TFIDFVectorizer"
   ]
  },
  {
   "cell_type": "code",
   "execution_count": 12,
   "id": "543ad95f",
   "metadata": {
    "ExecuteTime": {
     "end_time": "2024-04-28T10:56:13.513532Z",
     "start_time": "2024-04-28T10:56:13.486127Z"
    },
    "scrolled": true
   },
   "outputs": [
    {
     "data": {
      "text/html": [
       "<div>\n",
       "<style scoped>\n",
       "    .dataframe tbody tr th:only-of-type {\n",
       "        vertical-align: middle;\n",
       "    }\n",
       "\n",
       "    .dataframe tbody tr th {\n",
       "        vertical-align: top;\n",
       "    }\n",
       "\n",
       "    .dataframe thead th {\n",
       "        text-align: right;\n",
       "    }\n",
       "</style>\n",
       "<table border=\"1\" class=\"dataframe\">\n",
       "  <thead>\n",
       "    <tr style=\"text-align: right;\">\n",
       "      <th></th>\n",
       "      <th>damascu</th>\n",
       "      <th>engin</th>\n",
       "      <th>index</th>\n",
       "      <th>inform</th>\n",
       "      <th>retriev</th>\n",
       "      <th>softwar</th>\n",
       "      <th>univers</th>\n",
       "    </tr>\n",
       "  </thead>\n",
       "  <tbody>\n",
       "    <tr>\n",
       "      <th>doc_1</th>\n",
       "      <td>0.306504</td>\n",
       "      <td>0.403016</td>\n",
       "      <td>0.000000</td>\n",
       "      <td>0.000000</td>\n",
       "      <td>0.000000</td>\n",
       "      <td>0.806032</td>\n",
       "      <td>0.306504</td>\n",
       "    </tr>\n",
       "    <tr>\n",
       "      <th>doc_2</th>\n",
       "      <td>0.500000</td>\n",
       "      <td>0.000000</td>\n",
       "      <td>0.000000</td>\n",
       "      <td>0.500000</td>\n",
       "      <td>0.500000</td>\n",
       "      <td>0.000000</td>\n",
       "      <td>0.500000</td>\n",
       "    </tr>\n",
       "    <tr>\n",
       "      <th>doc_3</th>\n",
       "      <td>0.000000</td>\n",
       "      <td>0.000000</td>\n",
       "      <td>0.680919</td>\n",
       "      <td>0.517856</td>\n",
       "      <td>0.517856</td>\n",
       "      <td>0.000000</td>\n",
       "      <td>0.000000</td>\n",
       "    </tr>\n",
       "  </tbody>\n",
       "</table>\n",
       "</div>"
      ],
      "text/plain": [
       "        damascu     engin     index    inform   retriev   softwar   univers\n",
       "doc_1  0.306504  0.403016  0.000000  0.000000  0.000000  0.806032  0.306504\n",
       "doc_2  0.500000  0.000000  0.000000  0.500000  0.500000  0.000000  0.500000\n",
       "doc_3  0.000000  0.000000  0.680919  0.517856  0.517856  0.000000  0.000000"
      ]
     },
     "execution_count": 12,
     "metadata": {},
     "output_type": "execute_result"
    }
   ],
   "source": [
    "from sklearn.feature_extraction.text import TfidfVectorizer\n",
    "import pandas as pd\n",
    "\n",
    "vectorizer = TfidfVectorizer(preprocessor=preprocessor)\n",
    "\n",
    "documents = list(corpus.values())\n",
    "tfidf_matrix = vectorizer.fit_transform(documents)\n",
    "\n",
    "df = pd.DataFrame(tfidf_matrix.toarray(), columns=vectorizer.get_feature_names_out(), index=corpus.keys())\n",
    "\n",
    "df"
   ]
  }
 ],
 "metadata": {
  "kernelspec": {
   "display_name": "Python 3 (ipykernel)",
   "language": "python",
   "name": "python3"
  },
  "language_info": {
   "codemirror_mode": {
    "name": "ipython",
    "version": 3
   },
   "file_extension": ".py",
   "mimetype": "text/x-python",
   "name": "python",
   "nbconvert_exporter": "python",
   "pygments_lexer": "ipython3",
   "version": "3.9.19"
  }
 },
 "nbformat": 4,
 "nbformat_minor": 5
}
