{
 "cells": [
  {
   "metadata": {},
   "cell_type": "markdown",
   "source": "",
   "id": "4b671fed1d002441"
  },
  {
   "metadata": {},
   "cell_type": "markdown",
   "source": "## Create a new Index",
   "id": "310ad2bcae2bf6c4"
  },
  {
   "metadata": {
    "ExecuteTime": {
     "end_time": "2024-05-26T17:24:54.384016Z",
     "start_time": "2024-05-26T17:18:22.480893Z"
    }
   },
   "cell_type": "code",
   "source": [
    "from Helper.timing import Timing\n",
    "from Helper.ORM import fetch_records\n",
    "from Pipeline.index.index import Index\n",
    "\n",
    "with Timing('Creating Index...'):\n",
    "    records = fetch_records(model=\"Corpus\")\n",
    "    documents = [rec.text for rec in records]\n",
    "    index = Index(records)\n",
    "    index.save(model_name=\"Pipeline/index/Saved/wiki_model.pickle\",\n",
    "               tfidf_name=\"Pipeline/index/Saved/wiki_tfidf.pickle\",\n",
    "               keys_name=\"Pipeline/index/Saved/wiki_keys.pickle\")\n",
    "    \n",
    "print(index.tfidf_matrix.shape[1])"
   ],
   "id": "94f4e549db8e8a37",
   "execution_count": 13,
   "outputs": []
  },
  {
   "metadata": {},
   "cell_type": "markdown",
   "source": "## Load existing Index",
   "id": "67f33c03d43e1ebe"
  },
  {
   "metadata": {
    "ExecuteTime": {
     "end_time": "2024-05-30T08:39:41.304916Z",
     "start_time": "2024-05-30T08:39:35.284142Z"
    }
   },
   "cell_type": "code",
   "source": [
    "from Pipeline.index.index import Index\n",
    "\n",
    "index = Index.load(model_name=\"Pipeline/index/Saved/Wiki/countries/model369721.pickle\",\n",
    "                   tfidf_name=\"Pipeline/index/Saved/Wiki/countries/tfidf369721.pickle\",\n",
    "                   keys_name=\"Pipeline/index/Saved/Wiki/countries/keys369721.pickle\")\n",
    "\n",
    "print(index.tfidf_matrix.shape[1])"
   ],
   "id": "14df0077eb2702da",
   "outputs": [
    {
     "name": "stdout",
     "output_type": "stream",
     "text": [
      "794602\n"
     ]
    }
   ],
   "execution_count": 1
  },
  {
   "metadata": {},
   "cell_type": "markdown",
   "source": "# Evaluate the currently loaded index",
   "id": "45f8c921862e0000"
  },
  {
   "metadata": {
    "jupyter": {
     "is_executing": true
    },
    "ExecuteTime": {
     "start_time": "2024-05-27T23:53:30.656750Z"
    }
   },
   "cell_type": "code",
   "source": [
    "from Pipeline.Evaluation.eval import evaluate\n",
    "from Helper.timing import Timing\n",
    "\n",
    "\n",
    "with Timing('Evaluating Documents...'):\n",
    "    ev = evaluate(index, \n",
    "                  rel=1,\n",
    "                  qrels_path=\"Pipeline/Evaluation/Wiki/qrels_wiki\",\n",
    "                  queries_path=\"Pipeline/Evaluation/Wiki/queries.csv\", \n",
    "                  run_path=\"Pipeline/Evaluation/Wiki/run_wiki_lower_stop_html_countries_numerize\", \n",
    "                  create_run_file_bool=True)\n",
    "\n",
    "    print(ev)"
   ],
   "id": "bac1c146e60260ac",
   "execution_count": null,
   "outputs": []
  },
  {
   "metadata": {},
   "cell_type": "markdown",
   "source": "# Show Clustered Index Plots",
   "id": "b3c858a3e368e4c3"
  },
  {
   "metadata": {},
   "cell_type": "code",
   "execution_count": null,
   "source": [
    "from Clustering import cluster_index\n",
    "\n",
    "cluster_index(index)"
   ],
   "id": "431653f2bf94faf",
   "outputs": []
  },
  {
   "metadata": {},
   "cell_type": "markdown",
   "source": "# Search for a certain term",
   "id": "4db7453eae3fdb33"
  },
  {
   "metadata": {
    "ExecuteTime": {
     "end_time": "2024-05-27T16:10:24.082528Z",
     "start_time": "2024-05-27T16:10:21.319819Z"
    }
   },
   "cell_type": "code",
   "source": [
    "from Helper.timing import Timing\n",
    "\n",
    "with Timing('searching...'):\n",
    "  top_documents = index.search('yanni')\n",
    "  for doc_id, score, idx in top_documents:\n",
    "      print(f\"Document {doc_id}: Similarity Score {score}\")"
   ],
   "id": "b7934724a0223075",
   "execution_count": 3,
   "outputs": []
  },
  {
   "metadata": {
    "ExecuteTime": {
     "end_time": "2024-05-30T08:40:00.485162Z",
     "start_time": "2024-05-30T08:39:58.723799Z"
    }
   },
   "cell_type": "code",
   "source": [
    "\n",
    "feature_names = index.vectorizer.get_feature_names_out()\n",
    "  \n",
    "with open('feature_names/countries_features.txt', 'w') as f:\n",
    "  # Write each feature name to a separate line in the file\n",
    "  for feature_name in feature_names:\n",
    "    f.write(feature_name + '\\n')\n",
    "  "
   ],
   "id": "98333688228ef76",
   "outputs": [],
   "execution_count": 2
  }
 ],
 "metadata": {
  "kernelspec": {
   "display_name": "Python 3",
   "language": "python",
   "name": "python3"
  },
  "language_info": {
   "codemirror_mode": {
    "name": "ipython",
    "version": 2
   },
   "file_extension": ".py",
   "mimetype": "text/x-python",
   "name": "python",
   "nbconvert_exporter": "python",
   "pygments_lexer": "ipython2",
   "version": "2.7.6"
  }
 },
 "nbformat": 4,
 "nbformat_minor": 5
}
