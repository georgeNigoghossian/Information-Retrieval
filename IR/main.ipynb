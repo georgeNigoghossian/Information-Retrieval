{
 "cells": [
  {
   "cell_type": "markdown",
   "id": "310ad2bcae2bf6c4",
   "metadata": {},
   "source": [
    "## Create a new Index"
   ]
  },
  {
   "cell_type": "code",
   "execution_count": 13,
   "id": "94f4e549db8e8a37",
   "metadata": {
    "ExecuteTime": {
     "end_time": "2024-05-26T17:24:54.384016Z",
     "start_time": "2024-05-26T17:18:22.480893Z"
    }
   },
   "outputs": [],
   "source": [
    "from Offline.Helper.timing import Timing\n",
    "from Offline.Helper.ORM import fetch_records\n",
    "from Offline.Pipeline.index.index import Index\n",
    "\n",
    "with Timing('Creating Index...'):\n",
    "    records = fetch_records(model=\"Corpus\")\n",
    "    documents = [rec.text for rec in records]\n",
    "    index = Index(records)\n",
    "    index.save(model_name=\"Pipeline/index/Saved/wiki_model.pickle\",\n",
    "               tfidf_name=\"Pipeline/index/Saved/wiki_tfidf.pickle\",\n",
    "               keys_name=\"Pipeline/index/Saved/wiki_keys.pickle\")"
   ]
  },
  {
   "cell_type": "markdown",
   "id": "67f33c03d43e1ebe",
   "metadata": {},
   "source": [
    "## Load existing Index"
   ]
  },
  {
   "cell_type": "code",
   "execution_count": 1,
   "id": "14df0077eb2702da",
   "metadata": {
    "ExecuteTime": {
     "end_time": "2024-06-03T17:23:23.299143Z",
     "start_time": "2024-06-03T17:23:23.249305Z"
    }
   },
   "outputs": [
    {
     "name": "stderr",
     "output_type": "stream",
     "text": [
      "C:\\Users\\Nicol\\anaconda3\\Lib\\site-packages\\spacy\\util.py:910: UserWarning: [W095] Model 'en_core_web_sm' (3.5.0) was trained with spaCy v3.5.0 and may not be 100% compatible with the current version (3.7.4). If you see errors or degraded performance, download a newer compatible model or retrain your custom model with the current spaCy version. For more details and available updates, run: python -m spacy validate\n",
      "  warnings.warn(warn_msg)\n"
     ]
    }
   ],
   "source": [
    "from Offline.Pipeline.index.index import Index\n",
    "\n",
    "index1 = Index.load(model_name=\"Offline/Pipeline/index/Saved/antique/processed_corpus/model403666.pickle\",\n",
    "                   tfidf_name=\"Offline/Pipeline/index/Saved/antique/processed_corpus/tfidf403666.pickle\",\n",
    "                   keys_name=\"Offline/Pipeline/index/Saved/antique/processed_corpus/keys403666.pickle\")\n",
    "\n",
    "index2 = Index.load(model_name=\"Offline/Pipeline/index/Saved/wiki/processed_corpus/model369721.pickle\",\n",
    "                   tfidf_name=\"Offline/Pipeline/index/Saved/wiki/processed_corpus/tfidf369721.pickle\",\n",
    "                   keys_name=\"Offline/Pipeline/index/Saved/wiki/processed_corpus/keys369721.pickle\")"
   ]
  },
  {
   "cell_type": "markdown",
   "id": "45f8c921862e0000",
   "metadata": {},
   "source": [
    "# Evaluate the currently loaded index"
   ]
  },
  {
   "cell_type": "code",
   "execution_count": 24,
   "id": "bac1c146e60260ac",
   "metadata": {
    "ExecuteTime": {
     "end_time": "2024-06-03T17:19:31.965898Z",
     "start_time": "2024-06-03T17:19:31.083628Z"
    }
   },
   "outputs": [
    {
     "name": "stdout",
     "output_type": "stream",
     "text": [
      "Evaluating Documents... elapsed time: 14.397005796432495\n",
      "{AP(rel=3): 7.361510823088743, RR(rel=3): 22.749247547727165, R@10: 10.638176985767522, P@10: 9.0065952184665}\n",
      "{RR: 58.589720334867245, R@10: 16.773607263104605, AP: 14.243330685050543, P@10: 18.372576177285165}\n"
     ]
    }
   ],
   "source": [
    "from Offline.Pipeline.Evaluation.eval import evaluate\n",
    "from Offline.Helper.timing import Timing\n",
    "\n",
    "\n",
    "with Timing('Evaluating Documents...'):\n",
    "    ev1 = evaluate(\n",
    "                  index1,\n",
    "                  rel=3,\n",
    "                  qrels_path=\"Offline/Pipeline/Evaluation/Antique/qrels_antique\",\n",
    "                  queries_path=\"Offline/Pipeline/Evaluation/Antique/queries.csv\",\n",
    "                  run_path=\"Offline/Pipeline/Evaluation/Antique/run_antique_processed\",\n",
    "                  create_run_file_bool=False,\n",
    "                  # metrics_path=\"Offline/Pipeline/Evaluation/Antique/antique_processed_metrics\"\n",
    "    )\n",
    "\n",
    "    ev2 = evaluate(\n",
    "                  index2,\n",
    "                  rel=1,\n",
    "                  qrels_path=\"Offline/Pipeline/Evaluation/Wiki/qrels_wiki\",\n",
    "                  queries_path=\"Offline/Pipeline/Evaluation/Wiki/queries.csv\",\n",
    "                  run_path=\"Offline/Pipeline/Evaluation/Wiki/run_wiki_processed_corpus\",\n",
    "                  create_run_file_bool=False,\n",
    "                  # metrics_path=\"Offline/Pipeline/Evaluation/Antique/antique_processed_metrics\"\n",
    "    )\n",
    "\n",
    "    ev1.update((x, y * 100) for x, y in ev1.items())\n",
    "    ev2.update((x, y * 100) for x, y in ev2.items())\n",
    "\n",
    "print(ev1)\n",
    "print(ev2)"
   ]
  },
  {
   "cell_type": "markdown",
   "id": "4db7453eae3fdb33",
   "metadata": {},
   "source": [
    "# Search for a certain term"
   ]
  },
  {
   "cell_type": "code",
   "execution_count": 26,
   "id": "b7934724a0223075",
   "metadata": {
    "ExecuteTime": {
     "end_time": "2024-05-27T16:10:24.082528Z",
     "start_time": "2024-05-27T16:10:21.319819Z"
    }
   },
   "outputs": [
    {
     "name": "stdout",
     "output_type": "stream",
     "text": [
      "Document 806300: Similarity Score 0.6543636518089901\n",
      "Document 123839: Similarity Score 0.5798533282589761\n",
      "Document 836567: Similarity Score 0.44442233356295086\n",
      "Document 806075: Similarity Score 0.43385564228578916\n",
      "Document 806326: Similarity Score 0.4170940034455002\n",
      "Document 2112227: Similarity Score 0.3436375738526795\n",
      "Document 1793430: Similarity Score 0.31685747378044377\n",
      "Document 2355277: Similarity Score 0.3000911389974701\n",
      "searching... elapsed time: 1.9377338886260986\n"
     ]
    }
   ],
   "source": [
    "from Offline.Helper.timing import Timing\n",
    "\n",
    "with Timing('searching...'):\n",
    "  top_documents = index2.search('yanni', 0.3)\n",
    "  for doc_id, score, idx in top_documents:\n",
    "      print(f\"Document {doc_id}: Similarity Score {score}\")"
   ]
  },
  {
   "cell_type": "markdown",
   "id": "b5d811650191316e",
   "metadata": {},
   "source": [
    "## Export all the featrures to a file"
   ]
  },
  {
   "cell_type": "code",
   "execution_count": 14,
   "id": "98333688228ef76",
   "metadata": {},
   "outputs": [],
   "source": [
    "feature_names = index1.vectorizer.get_feature_names_out()\n",
    "  \n",
    "with open('Offline/feature_names/trying.txt', 'w') as f:\n",
    "  # Write each feature name to a separate line in the file\n",
    "  for feature_name in feature_names:\n",
    "    f.write(feature_name + '\\n')"
   ]
  },
  {
   "cell_type": "markdown",
   "id": "a883f610bd3f8305",
   "metadata": {},
   "source": [
    "## Clustering"
   ]
  },
  {
   "cell_type": "code",
   "execution_count": null,
   "id": "9af24ce115a173fc",
   "metadata": {},
   "outputs": [],
   "source": [
    "from Offline.Clustering import cluster_index, find_optimal_clusters\n",
    "\n",
    "\n",
    "# find_optimal_clusters(index2.tfidf_matrix, 20)\n",
    "cluster_index(index2, n_clusters=4, init_size=400000, batch_size=800000,  random_state=20)"
   ]
  }
 ],
 "metadata": {
  "kernelspec": {
   "display_name": "Python 3 (ipykernel)",
   "language": "python",
   "name": "python3"
  },
  "language_info": {
   "codemirror_mode": {
    "name": "ipython",
    "version": 3
   },
   "file_extension": ".py",
   "mimetype": "text/x-python",
   "name": "python",
   "nbconvert_exporter": "python",
   "pygments_lexer": "ipython3",
   "version": "3.11.7"
  }
 },
 "nbformat": 4,
 "nbformat_minor": 5
}
